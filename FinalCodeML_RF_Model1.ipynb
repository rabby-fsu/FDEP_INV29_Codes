{
 "cells": [
  {
   "cell_type": "markdown",
   "id": "cd58b585-49e2-4051-8066-9a73d9f69551",
   "metadata": {},
   "source": [
    "#Model 1"
   ]
  },
  {
   "cell_type": "code",
   "execution_count": 23,
   "id": "697897c7-4476-46e0-b876-8980a37a90f2",
   "metadata": {
    "tags": []
   },
   "outputs": [],
   "source": [
    "import pandas as pd\n",
    "import numpy as np\n",
    "from sklearn.model_selection import train_test_split\n",
    "from sklearn.ensemble import RandomForestRegressor\n",
    "from sklearn.metrics import mean_squared_error, r2_score, mean_absolute_error\n",
    "import matplotlib.pyplot as plt\n",
    "\n",
    "\n",
    "df = pd.read_csv('DataFile_ML_All.csv')\n",
    "\n",
    "\n",
    "df = df.drop(columns=['Date', 'id', 'station_code'])\n",
    "\n",
    "# Select the features and target variable\n",
    "selected_features = ['Secchi Depth(m)', 'DO(mg/l)', 'Temperature (deg cels)', 'Salinity(ppt)','pH', 'Turbidity(NTU)', 'Nitrate+Nitrite']\n",
    "\n",
    "X = df[selected_features]  # Independent variables\n",
    "y = df['Chlorophyll-a (ug/l)']           # Target variable\n",
    "\n",
    "# Perform an 80-20 train-test split\n",
    "X_train, X_test, y_train, y_test = train_test_split(X, y, test_size=0.3, random_state=42)"
   ]
  },
  {
   "cell_type": "code",
   "execution_count": null,
   "id": "238a889e-2067-4e6c-a661-9323f1de4342",
   "metadata": {},
   "outputs": [],
   "source": []
  },
  {
   "cell_type": "markdown",
   "id": "1ac81f56-c2bf-448a-bf1d-54737e065b2f",
   "metadata": {},
   "source": [
    "## 2. Random Forest Regression Model"
   ]
  },
  {
   "cell_type": "raw",
   "id": "b2bd74d7-cb0b-4232-9ec1-1e141ce5b7a1",
   "metadata": {},
   "source": [
    "import numpy as np\n",
    "import pandas as pd\n",
    "from sklearn.ensemble import RandomForestRegressor\n",
    "from sklearn.model_selection import train_test_split\n",
    "from sklearn.metrics import mean_squared_error, r2_score\n",
    "import matplotlib.pyplot as plt\n",
    "\n",
    "# Load your training data, assuming it's in a DataFrame called 'CDEP'\n",
    "CDEP = pd.read_csv('DataFile_ML_All.csv')\n",
    "\n",
    "# Step 1: Data Preprocessing (Assuming your data is in a DataFrame called 'data_CDEP')\n",
    "selected_features = ['Secchi Depth(m)', 'DO(mg/l)', 'Temperature (deg cels)', 'Salinity(ppt)','pH', 'Turbidity(NTU)', 'Nitrate+Nitrite', 'ATemp_max' ,'ATemp_max_1dlag',\n",
    "    'ATemp_max_2dlag', 'ATemp_max_3dlag', 'ATemp_max_4dlag', 'ATemp_max_5dlag', 'ATemp_max_6dlag', 'ATemp_max_7dlag']\n",
    "X = CDEP[selected_features]  # Independent variables\n",
    "y = CDEP['Chlorophyll-a (ug/l)']  # Log-transform the target variable\n",
    "\n",
    "# Split the data into training and test sets\n",
    "X_train, X_test, y_train, y_test = train_test_split(X, y, test_size=0.3, random_state=42)"
   ]
  },
  {
   "cell_type": "code",
   "execution_count": 24,
   "id": "ffa86b1f-0350-4974-bab0-41e9181db7bb",
   "metadata": {},
   "outputs": [],
   "source": [
    "#Bayesian Optimization"
   ]
  },
  {
   "cell_type": "code",
   "execution_count": null,
   "id": "78c7f5d5-2d3e-489c-8628-c1295725deb6",
   "metadata": {},
   "outputs": [],
   "source": []
  },
  {
   "cell_type": "code",
   "execution_count": 25,
   "id": "9406997c-25b3-4301-b895-e3362422d401",
   "metadata": {},
   "outputs": [
    {
     "name": "stdout",
     "output_type": "stream",
     "text": [
      "Hyperparameter n_estimators: 160\n",
      "Hyperparameter max_depth: 6\n",
      "Hyperparameter min_samples_split: 8\n",
      "Hyperparameter min_samples_leaf: 6\n",
      "Optimal MAE: 2.550975172266328\n"
     ]
    }
   ],
   "source": [
    "# Bayesian Optimization\n",
    "from skopt import gp_minimize\n",
    "\n",
    "def objective_function(params):\n",
    "    # Here, params is a list of hyperparameters to optimize\n",
    "    n_estimators, max_depth, min_samples_split, min_samples_leaf = params\n",
    "\n",
    "    # Train a model with the given hyperparameters\n",
    "    model = RandomForestRegressor(\n",
    "        n_estimators=n_estimators,\n",
    "        max_depth=max_depth,\n",
    "        min_samples_split=min_samples_split,\n",
    "        min_samples_leaf=min_samples_leaf,\n",
    "        random_state=42\n",
    "    )\n",
    "    model.fit(X_train, y_train)\n",
    "\n",
    "    # Calculate the MAE as the metric to minimize\n",
    "    predictions = model.predict(X_test)\n",
    "    mae = mean_absolute_error(y_test, predictions)\n",
    "\n",
    "    return mae  # We want to minimize MAE\n",
    "\n",
    "from skopt.space import Real, Integer\n",
    "from skopt.utils import use_named_args\n",
    "\n",
    "# Define the search space for hyperparameters\n",
    "space = [\n",
    "    Integer(1, 200, name='n_estimators'),\n",
    "    Integer(1, 30, name='max_depth'),\n",
    "    Integer(2, 10, name='min_samples_split'),\n",
    "    Integer(1, 10, name='min_samples_leaf')\n",
    "]\n",
    "\n",
    "# Perform Bayesian optimization to minimize MAE\n",
    "result = gp_minimize(objective_function, space, n_calls=10, random_state=42)\n",
    "\n",
    "# The result variable will contain the optimal hyperparameters that minimize MAE\n",
    "optimal_hyperparameters = result.x\n",
    "optimal_mae = result.fun\n",
    "\n",
    "# Print all hyperparameters and their values\n",
    "for param, value in zip(space, optimal_hyperparameters):\n",
    "    print(f\"Hyperparameter {param.name}: {value}\")\n",
    "print(\"Optimal MAE:\", optimal_mae)"
   ]
  },
  {
   "cell_type": "raw",
   "id": "ad65d8bf-e1f5-4bb9-846f-421a024df546",
   "metadata": {},
   "source": [
    "Hyperparameter n_estimators: 160\n",
    "Hyperparameter max_depth: 6\n",
    "Hyperparameter min_samples_split: 8\n",
    "Hyperparameter min_samples_leaf: 6\n",
    "Optimal MAE: 2.550975172266328"
   ]
  },
  {
   "cell_type": "code",
   "execution_count": 26,
   "id": "7ef796f7-d1fa-4c8b-a22d-a7adb9d44818",
   "metadata": {},
   "outputs": [
    {
     "name": "stdout",
     "output_type": "stream",
     "text": [
      "Average Train R2: 0.6306913496405255\n",
      "Average Test R2: 0.5175358884190149\n",
      "Average Train MSE: 9.94307340129145\n",
      "Average Test MSE: 12.498759240378954\n",
      "Average Train RMSE: 3.15303766596153\n",
      "Average Test RMSE: 3.5352412116032337\n",
      "Average Train MAE: 2.136975441537297\n",
      "Average Test MAE: 2.5440825517503596\n",
      "Average Train PBIAS: -46.96997400351619\n",
      "Average Test PBIAS: -49.03804738273848\n"
     ]
    }
   ],
   "source": [
    "from sklearn.metrics import mean_squared_error, r2_score, mean_absolute_error\n",
    "import numpy as np\n",
    "import matplotlib.pyplot as plt\n",
    "\n",
    "# Initialize lists to store the performance metrics over iterations\n",
    "train_r2_values = []\n",
    "test_r2_values = []\n",
    "train_mse_values = []\n",
    "test_mse_values = []\n",
    "train_rmse_values = []\n",
    "test_rmse_values = []\n",
    "train_mae_values = []\n",
    "test_mae_values = []\n",
    "train_pbias_values = []\n",
    "test_pbias_values = []\n",
    "\n",
    "# Number of iterations\n",
    "num_iterations = 100\n",
    "decision_trees_mean = []\n",
    "\n",
    "for iteration in range(num_iterations):\n",
    "    # Create a bootstrap sample Dj of size N from the training data\n",
    "    bootstrap_indices = np.random.choice(len(X_train), size=len(X_train), replace=True)\n",
    "    X_train_bootstrap = X_train.iloc[bootstrap_indices]\n",
    "    y_train_bootstrap = y_train.iloc[bootstrap_indices]\n",
    "\n",
    "    # Train the decision model (Random Forest Regressor) using Dj as the training data\n",
    "    rf_model_HAB_Bayesian_01 = RandomForestRegressor(\n",
    "        random_state=42, \n",
    "        n_estimators=160, \n",
    "        max_depth=6, \n",
    "        min_samples_split=8, \n",
    "        min_samples_leaf=6\n",
    "    )\n",
    "    rf_model_HAB_Bayesian_01.fit(X_train_bootstrap, y_train_bootstrap)\n",
    "\n",
    "    # Append the trained decision tree to the respective list\n",
    "    decision_trees_mean.append(rf_model_HAB_Bayesian_01) \n",
    "\n",
    "    # Step 3: Predictions and Combining Decision Trees\n",
    "    # Predictions\n",
    "    predictions_mean_train = [tree.predict(X_train) for tree in decision_trees_mean]\n",
    "    combined_predictions_mean_train = np.mean(predictions_mean_train, axis=0)\n",
    "\n",
    "    predictions_mean_test = [tree.predict(X_test) for tree in decision_trees_mean]\n",
    "    combined_predictions_mean_test = np.mean(predictions_mean_test, axis=0)\n",
    "\n",
    "    # Step 4: Evaluate the Model\n",
    "\n",
    "    # Calculate performance metrics for the current iteration\n",
    "    r2_mean_train = r2_score(y_train, combined_predictions_mean_train)\n",
    "    r2_mean_test = r2_score(y_test, combined_predictions_mean_test)\n",
    "    mse_mean_train = mean_squared_error(y_train, combined_predictions_mean_train)\n",
    "    mse_mean_test = mean_squared_error(y_test, combined_predictions_mean_test)\n",
    "    rmse_mean_train = np.sqrt(mse_mean_train)\n",
    "    rmse_mean_test = np.sqrt(mse_mean_test)\n",
    "    mae_mean_train = mean_absolute_error(y_train, combined_predictions_mean_train)\n",
    "    mae_mean_test = mean_absolute_error(y_test, combined_predictions_mean_test)\n",
    "\n",
    "    # Calculate PBIAS (Percent Bias)\n",
    "    pbias_train = ((y_train - combined_predictions_mean_train) / y_train).mean() * 100\n",
    "    pbias_test = ((y_test - combined_predictions_mean_test) / y_test).mean() * 100\n",
    "\n",
    "    # Append the performance metrics for the current iteration to the lists\n",
    "    train_r2_values.append(r2_mean_train)\n",
    "    test_r2_values.append(r2_mean_test)\n",
    "    train_mse_values.append(mse_mean_train)\n",
    "    test_mse_values.append(mse_mean_test)\n",
    "    train_rmse_values.append(rmse_mean_train)\n",
    "    test_rmse_values.append(rmse_mean_test)\n",
    "    train_mae_values.append(mae_mean_train)\n",
    "    test_mae_values.append(mae_mean_test)\n",
    "    train_pbias_values.append(pbias_train)\n",
    "    test_pbias_values.append(pbias_test)\n",
    "\n",
    "# Calculate the average of the performance metrics over all iterations\n",
    "average_train_r2 = sum(train_r2_values) / num_iterations\n",
    "average_test_r2 = sum(test_r2_values) / num_iterations\n",
    "average_train_mse = sum(train_mse_values) / num_iterations\n",
    "average_test_mse = sum(test_mse_values) / num_iterations\n",
    "average_train_rmse = sum(train_rmse_values) / num_iterations\n",
    "average_test_rmse = sum(test_rmse_values) / num_iterations\n",
    "average_train_mae = sum(train_mae_values) / num_iterations\n",
    "average_test_mae = sum(test_mae_values) / num_iterations\n",
    "average_train_pbias = sum(train_pbias_values) / num_iterations\n",
    "average_test_pbias = sum(test_pbias_values) / num_iterations\n",
    "\n",
    "# Print the average performance metrics\n",
    "print(\"Average Train R2:\", average_train_r2)\n",
    "print(\"Average Test R2:\", average_test_r2)\n",
    "print(\"Average Train MSE:\", average_train_mse)\n",
    "print(\"Average Test MSE:\", average_test_mse)\n",
    "print(\"Average Train RMSE:\", average_train_rmse)\n",
    "print(\"Average Test RMSE:\", average_test_rmse)\n",
    "print(\"Average Train MAE:\", average_train_mae)\n",
    "print(\"Average Test MAE:\", average_test_mae)\n",
    "print(\"Average Train PBIAS:\", average_train_pbias)\n",
    "print(\"Average Test PBIAS:\", average_test_pbias)"
   ]
  },
  {
   "cell_type": "raw",
   "id": "449b7620-a68e-4c74-8b55-281a1d591a37",
   "metadata": {},
   "source": [
    "Average Train R2: 0.6306913496405255\n",
    "Average Test R2: 0.5175358884190149\n",
    "Average Train MSE: 9.94307340129145\n",
    "Average Test MSE: 12.498759240378954\n",
    "Average Train RMSE: 3.15303766596153\n",
    "Average Test RMSE: 3.5352412116032337\n",
    "Average Train MAE: 2.136975441537297\n",
    "Average Test MAE: 2.5440825517503596\n",
    "Average Train PBIAS: -46.96997400351619\n",
    "Average Test PBIAS: -49.03804738273848"
   ]
  },
  {
   "cell_type": "code",
   "execution_count": 27,
   "id": "5b9dceb1-f64c-41b0-a180-b71ab587b7e5",
   "metadata": {},
   "outputs": [
    {
     "data": {
      "text/plain": [
       "['rf_model_HAB_Bayesian_01.joblib']"
      ]
     },
     "execution_count": 27,
     "metadata": {},
     "output_type": "execute_result"
    }
   ],
   "source": [
    "#Saving the trained model\n",
    "\n",
    "import pickle\n",
    "\n",
    "# Save the Random Forest model to a file using pickle\n",
    "with open('rf_model_HAB_Bayesian_01.pkl', 'wb') as file:\n",
    "    pickle.dump(rf_model_HAB_Bayesian_01, file)\n",
    "    \n",
    "import joblib\n",
    "\n",
    "# Save the Random Forest model to a file using joblib\n",
    "joblib.dump(rf_model_HAB_Bayesian_01, 'rf_model_HAB_Bayesian_01.joblib')"
   ]
  },
  {
   "cell_type": "code",
   "execution_count": null,
   "id": "110214da-63a1-4c41-9ebc-05ded2fdfe65",
   "metadata": {},
   "outputs": [],
   "source": []
  },
  {
   "cell_type": "code",
   "execution_count": 28,
   "id": "9f0665ea-60eb-4a8a-b4ee-8497a9bc4c7f",
   "metadata": {},
   "outputs": [],
   "source": [
    "#Grid Search Optimization"
   ]
  },
  {
   "cell_type": "code",
   "execution_count": 29,
   "id": "baa36a9d-d02b-4387-929f-963d5b47fbf4",
   "metadata": {},
   "outputs": [
    {
     "name": "stdout",
     "output_type": "stream",
     "text": [
      "Fitting 5 folds for each of 96 candidates, totalling 480 fits\n",
      "Best Hyperparameters:\n",
      "max_depth: 10\n",
      "min_samples_leaf: 4\n",
      "min_samples_split: 7\n",
      "n_estimators: 1\n",
      "MAE: 3.226114154413394\n"
     ]
    }
   ],
   "source": [
    "from sklearn.model_selection import GridSearchCV\n",
    "from sklearn.ensemble import RandomForestRegressor\n",
    "from sklearn.metrics import mean_absolute_error, make_scorer\n",
    "\n",
    "# Define the hyperparameter space\n",
    "param_grid = {\n",
    "    'n_estimators': [1, 200],\n",
    "    'max_depth': [4,6,8, 10],\n",
    "    'min_samples_split': [7, 8, 9],\n",
    "    'min_samples_leaf': [4, 6, 8, 10]\n",
    "}\n",
    "\n",
    "# Create the Random Forest Regressor\n",
    "rf_model = RandomForestRegressor(random_state=42)\n",
    "\n",
    "# Define MAE as a scorer\n",
    "mae_scorer = make_scorer(mean_absolute_error)\n",
    "\n",
    "# Perform grid search with MAE scoring\n",
    "grid_search = GridSearchCV(\n",
    "    rf_model, param_grid, cv=5, scoring=mae_scorer, verbose=1, n_jobs=-1)\n",
    "grid_search.fit(X_train, y_train)\n",
    "\n",
    "# Get the best model\n",
    "best_model = grid_search.best_estimator_\n",
    "\n",
    "# Make predictions using the best model\n",
    "y_pred = best_model.predict(X_test)\n",
    "\n",
    "# Calculate MAE\n",
    "mae = mean_absolute_error(y_test, y_pred)\n",
    "\n",
    "# Print the best parameters and MAE\n",
    "best_params = grid_search.best_params_\n",
    "print(\"Best Hyperparameters:\")\n",
    "for param, value in best_params.items():\n",
    "    print(f\"{param}: {value}\")\n",
    "print(f\"MAE: {mae}\")"
   ]
  },
  {
   "cell_type": "raw",
   "id": "931d4a40-a206-4cae-9b87-53da8bcd0c8e",
   "metadata": {},
   "source": [
    "Fitting 5 folds for each of 96 candidates, totalling 480 fits\n",
    "Best Hyperparameters:\n",
    "max_depth: 10\n",
    "min_samples_leaf: 4\n",
    "min_samples_split: 7\n",
    "n_estimators: 1\n",
    "MAE: 3.226114154413394"
   ]
  },
  {
   "cell_type": "code",
   "execution_count": 30,
   "id": "063952ba-6d4d-4f6f-86ee-b47fdebd68cc",
   "metadata": {},
   "outputs": [
    {
     "name": "stdout",
     "output_type": "stream",
     "text": [
      "Average Train R2: 0.7128892265015275\n",
      "Average Test R2: 0.522146482832131\n",
      "Average Train MSE: 7.730020654588324\n",
      "Average Test MSE: 12.379316761360691\n",
      "Average Train RMSE: 2.774641479010615\n",
      "Average Test RMSE: 3.5113454444461856\n",
      "Average Train MAE: 1.8341858600991485\n",
      "Average Test MAE: 2.561171496553456\n",
      "Average Train PBIAS: -38.91440265424564\n",
      "Average Test PBIAS: -47.6153128133016\n"
     ]
    }
   ],
   "source": [
    "from sklearn.metrics import mean_squared_error, r2_score, mean_absolute_error\n",
    "import numpy as np\n",
    "import matplotlib.pyplot as plt\n",
    "\n",
    "# Initialize lists to store the performance metrics over iterations\n",
    "train_r2_values = []\n",
    "test_r2_values = []\n",
    "train_mse_values = []\n",
    "test_mse_values = []\n",
    "train_rmse_values = []\n",
    "test_rmse_values = []\n",
    "train_mae_values = []\n",
    "test_mae_values = []\n",
    "train_pbias_values = []\n",
    "test_pbias_values = []\n",
    "\n",
    "# Number of iterations\n",
    "num_iterations = 100\n",
    "decision_trees_mean = []\n",
    "\n",
    "for iteration in range(num_iterations):\n",
    "    # Create a bootstrap sample Dj of size N from the training data\n",
    "    bootstrap_indices = np.random.choice(len(X_train), size=len(X_train), replace=True)\n",
    "    X_train_bootstrap = X_train.iloc[bootstrap_indices]\n",
    "    y_train_bootstrap = y_train.iloc[bootstrap_indices]\n",
    "\n",
    "    # Train the decision model (Random Forest Regressor) using Dj as the training data\n",
    "    rf_model_HAB_Grid_01 = RandomForestRegressor(\n",
    "        random_state=42, \n",
    "        max_depth= 10,\n",
    "        min_samples_leaf= 4,\n",
    "        min_samples_split= 7,\n",
    "        n_estimators= 1\n",
    "    )\n",
    "    rf_model_HAB_Grid_01.fit(X_train_bootstrap, y_train_bootstrap)\n",
    "\n",
    "    # Append the trained decision tree to the respective list\n",
    "    decision_trees_mean.append(rf_model_HAB_Grid_01) \n",
    "\n",
    "    # Step 3: Predictions and Combining Decision Trees\n",
    "    # Predictions\n",
    "    predictions_mean_train = [tree.predict(X_train) for tree in decision_trees_mean]\n",
    "    combined_predictions_mean_train = np.mean(predictions_mean_train, axis=0)\n",
    "\n",
    "    predictions_mean_test = [tree.predict(X_test) for tree in decision_trees_mean]\n",
    "    combined_predictions_mean_test = np.mean(predictions_mean_test, axis=0)\n",
    "\n",
    " \n",
    "\n",
    "    # Calculate performance metrics for the current iteration\n",
    "    r2_mean_train = r2_score(y_train, combined_predictions_mean_train)\n",
    "    r2_mean_test = r2_score(y_test, combined_predictions_mean_test)\n",
    "    mse_mean_train = mean_squared_error(y_train, combined_predictions_mean_train)\n",
    "    mse_mean_test = mean_squared_error(y_test, combined_predictions_mean_test)\n",
    "    rmse_mean_train = np.sqrt(mse_mean_train)\n",
    "    rmse_mean_test = np.sqrt(mse_mean_test)\n",
    "    mae_mean_train = mean_absolute_error(y_train, combined_predictions_mean_train)\n",
    "    mae_mean_test = mean_absolute_error(y_test, combined_predictions_mean_test)\n",
    "\n",
    "    # Calculate PBIAS (Percent Bias)\n",
    "    pbias_train = ((y_train - combined_predictions_mean_train) / y_train).mean() * 100\n",
    "    pbias_test = ((y_test - combined_predictions_mean_test) / y_test).mean() * 100\n",
    "\n",
    "    # Append the performance metrics for the current iteration to the lists\n",
    "    train_r2_values.append(r2_mean_train)\n",
    "    test_r2_values.append(r2_mean_test)\n",
    "    train_mse_values.append(mse_mean_train)\n",
    "    test_mse_values.append(mse_mean_test)\n",
    "    train_rmse_values.append(rmse_mean_train)\n",
    "    test_rmse_values.append(rmse_mean_test)\n",
    "    train_mae_values.append(mae_mean_train)\n",
    "    test_mae_values.append(mae_mean_test)\n",
    "    train_pbias_values.append(pbias_train)\n",
    "    test_pbias_values.append(pbias_test)\n",
    "\n",
    "# Calculate the average of the performance metrics over all iterations\n",
    "average_train_r2 = sum(train_r2_values) / num_iterations\n",
    "average_test_r2 = sum(test_r2_values) / num_iterations\n",
    "average_train_mse = sum(train_mse_values) / num_iterations\n",
    "average_test_mse = sum(test_mse_values) / num_iterations\n",
    "average_train_rmse = sum(train_rmse_values) / num_iterations\n",
    "average_test_rmse = sum(test_rmse_values) / num_iterations\n",
    "average_train_mae = sum(train_mae_values) / num_iterations\n",
    "average_test_mae = sum(test_mae_values) / num_iterations\n",
    "average_train_pbias = sum(train_pbias_values) / num_iterations\n",
    "average_test_pbias = sum(test_pbias_values) / num_iterations\n",
    "\n",
    "# Print the average performance metrics\n",
    "print(\"Average Train R2:\", average_train_r2)\n",
    "print(\"Average Test R2:\", average_test_r2)\n",
    "print(\"Average Train MSE:\", average_train_mse)\n",
    "print(\"Average Test MSE:\", average_test_mse)\n",
    "print(\"Average Train RMSE:\", average_train_rmse)\n",
    "print(\"Average Test RMSE:\", average_test_rmse)\n",
    "print(\"Average Train MAE:\", average_train_mae)\n",
    "print(\"Average Test MAE:\", average_test_mae)\n",
    "print(\"Average Train PBIAS:\", average_train_pbias)\n",
    "print(\"Average Test PBIAS:\", average_test_pbias)"
   ]
  },
  {
   "cell_type": "raw",
   "id": "ec16b9cb-2783-4125-a254-96560d74f6c8",
   "metadata": {},
   "source": [
    "Average Train R2: 0.7128892265015275\n",
    "Average Test R2: 0.522146482832131\n",
    "Average Train MSE: 7.730020654588324\n",
    "Average Test MSE: 12.379316761360691\n",
    "Average Train RMSE: 2.774641479010615\n",
    "Average Test RMSE: 3.5113454444461856\n",
    "Average Train MAE: 1.8341858600991485\n",
    "Average Test MAE: 2.561171496553456\n",
    "Average Train PBIAS: -38.91440265424564\n",
    "Average Test PBIAS: -47.6153128133016"
   ]
  },
  {
   "cell_type": "code",
   "execution_count": 32,
   "id": "7377c51b-7af0-45c7-9526-5ee542db77ea",
   "metadata": {},
   "outputs": [
    {
     "data": {
      "text/plain": [
       "['rf_model_HAB_Grid_01.joblib']"
      ]
     },
     "execution_count": 32,
     "metadata": {},
     "output_type": "execute_result"
    }
   ],
   "source": [
    "#Saving the trained model\n",
    "\n",
    "import pickle\n",
    "\n",
    "# Save the Random Forest model to a file using pickle\n",
    "with open('rf_model_HAB_Grid_01.pkl', 'wb') as file:\n",
    "    pickle.dump(rf_model_HAB_Grid_01, file)\n",
    "import joblib\n",
    "\n",
    "# Save the Random Forest model to a file using joblib\n",
    "joblib.dump(rf_model_HAB_Grid_01, 'rf_model_HAB_Grid_01.joblib')"
   ]
  },
  {
   "cell_type": "code",
   "execution_count": null,
   "id": "51d9ff49-fcea-4d9e-b553-3d912e170c3c",
   "metadata": {},
   "outputs": [],
   "source": []
  },
  {
   "cell_type": "code",
   "execution_count": null,
   "id": "bd7e61fb-a22e-45f2-aaae-765073b97335",
   "metadata": {},
   "outputs": [],
   "source": [
    "#randomized search optimization"
   ]
  },
  {
   "cell_type": "code",
   "execution_count": 33,
   "id": "4ed7accf-2b22-49ef-8f92-7870b3ea16e3",
   "metadata": {},
   "outputs": [
    {
     "name": "stderr",
     "output_type": "stream",
     "text": [
      "C:\\ProgramData\\Anaconda3\\lib\\site-packages\\sklearn\\model_selection\\_search.py:292: UserWarning: The total space of parameters 96 is smaller than n_iter=100. Running 96 iterations. For exhaustive searches, use GridSearchCV.\n",
      "  warnings.warn(\n"
     ]
    },
    {
     "name": "stdout",
     "output_type": "stream",
     "text": [
      "Fitting 5 folds for each of 96 candidates, totalling 480 fits\n",
      "Best Hyperparameters:\n",
      "n_estimators: 1\n",
      "min_samples_split: 7\n",
      "min_samples_leaf: 4\n",
      "max_depth: 10\n",
      "MAE: 3.226114154413394\n"
     ]
    }
   ],
   "source": [
    "from sklearn.model_selection import RandomizedSearchCV\n",
    "from sklearn.ensemble import RandomForestRegressor\n",
    "from sklearn.metrics import mean_absolute_error, make_scorer\n",
    "import numpy as np\n",
    "\n",
    "# Define the hyperparameter space\n",
    "param_dist = {\n",
    "    'n_estimators': [1, 200],\n",
    "    'max_depth': [4,6,8, 10],\n",
    "    'min_samples_split': [7, 8, 9],\n",
    "    'min_samples_leaf': [4, 6, 8, 10]\n",
    "}\n",
    "\n",
    "# Create the Random Forest Regressor\n",
    "rf_model = RandomForestRegressor(random_state=42)\n",
    "\n",
    "# Define MAE as a scorer\n",
    "mae_scorer = make_scorer(mean_absolute_error)\n",
    "\n",
    "# Perform randomized search with MAE scoring\n",
    "random_search = RandomizedSearchCV(\n",
    "    rf_model, param_distributions=param_dist, n_iter=100, cv=5, scoring=mae_scorer, verbose=1, n_jobs=-1)\n",
    "random_search.fit(X_train, y_train)\n",
    "\n",
    "# Get the best model\n",
    "best_model = random_search.best_estimator_\n",
    "\n",
    "# Make predictions using the best model\n",
    "y_pred = best_model.predict(X_test)\n",
    "\n",
    "# Calculate MAE\n",
    "mae = mean_absolute_error(y_test, y_pred)\n",
    "\n",
    "# Print the best parameters and MAE\n",
    "best_params = random_search.best_params_\n",
    "print(\"Best Hyperparameters:\")\n",
    "for param, value in best_params.items():\n",
    "    print(f\"{param}: {value}\")\n",
    "print(f\"MAE: {mae}\")"
   ]
  },
  {
   "cell_type": "raw",
   "id": "e7e12556-264b-45fe-a4a9-de00062d5450",
   "metadata": {},
   "source": [
    "Fitting 5 folds for each of 96 candidates, totalling 480 fits\n",
    "Best Hyperparameters:\n",
    "n_estimators: 1\n",
    "min_samples_split: 7\n",
    "min_samples_leaf: 4\n",
    "max_depth: 10\n",
    "MAE: 3.226114154413394"
   ]
  },
  {
   "cell_type": "code",
   "execution_count": 34,
   "id": "f6c1699b-4315-4d5a-a507-c6d77dd18b8a",
   "metadata": {
    "tags": []
   },
   "outputs": [
    {
     "name": "stdout",
     "output_type": "stream",
     "text": [
      "Average Train R2: 0.696496754698487\n",
      "Average Test R2: 0.5122279279865243\n",
      "Average Train MSE: 8.171363012010989\n",
      "Average Test MSE: 12.636267747044364\n",
      "Average Train RMSE: 2.8529530162925782\n",
      "Average Test RMSE: 3.550832189013678\n",
      "Average Train MAE: 1.8809498564885132\n",
      "Average Test MAE: 2.5802137232431868\n",
      "Average Train PBIAS: -40.11906135954909\n",
      "Average Test PBIAS: -48.732570050006586\n"
     ]
    }
   ],
   "source": [
    "from sklearn.metrics import mean_squared_error, r2_score, mean_absolute_error\n",
    "import numpy as np\n",
    "import matplotlib.pyplot as plt\n",
    "\n",
    "# Initialize lists to store the performance metrics over iterations\n",
    "train_r2_values = []\n",
    "test_r2_values = []\n",
    "train_mse_values = []\n",
    "test_mse_values = []\n",
    "train_rmse_values = []\n",
    "test_rmse_values = []\n",
    "train_mae_values = []\n",
    "test_mae_values = []\n",
    "train_pbias_values = []\n",
    "test_pbias_values = []\n",
    "\n",
    "# Number of iterations\n",
    "num_iterations = 100\n",
    "decision_trees_mean = []\n",
    "\n",
    "for iteration in range(num_iterations):\n",
    "    # Create a bootstrap sample Dj of size N from the training data\n",
    "    bootstrap_indices = np.random.choice(len(X_train), size=len(X_train), replace=True)\n",
    "    X_train_bootstrap = X_train.iloc[bootstrap_indices]\n",
    "    y_train_bootstrap = y_train.iloc[bootstrap_indices]\n",
    "\n",
    "    # Train the decision model (Random Forest Regressor) using Dj as the training data\n",
    "    rf_model_HAB_Random_01 = RandomForestRegressor(\n",
    "        random_state=42, \n",
    "        n_estimators=1, \n",
    "        max_depth=10, \n",
    "        min_samples_split=7, \n",
    "        min_samples_leaf=4\n",
    "    )\n",
    "    rf_model_HAB_Random_01.fit(X_train_bootstrap, y_train_bootstrap)\n",
    "\n",
    "    # Append the trained decision tree to the respective list\n",
    "    decision_trees_mean.append(rf_model_HAB_Random_01) \n",
    "\n",
    "    # Step 3: Predictions and Combining Decision Trees\n",
    "    # Predictions\n",
    "    predictions_mean_train = [tree.predict(X_train) for tree in decision_trees_mean]\n",
    "    combined_predictions_mean_train = np.mean(predictions_mean_train, axis=0)\n",
    "\n",
    "    predictions_mean_test = [tree.predict(X_test) for tree in decision_trees_mean]\n",
    "    combined_predictions_mean_test = np.mean(predictions_mean_test, axis=0)\n",
    "\n",
    "\n",
    "    # Calculate performance metrics for the current iteration\n",
    "    r2_mean_train = r2_score(y_train, combined_predictions_mean_train)\n",
    "    r2_mean_test = r2_score(y_test, combined_predictions_mean_test)\n",
    "    mse_mean_train = mean_squared_error(y_train, combined_predictions_mean_train)\n",
    "    mse_mean_test = mean_squared_error(y_test, combined_predictions_mean_test)\n",
    "    rmse_mean_train = np.sqrt(mse_mean_train)\n",
    "    rmse_mean_test = np.sqrt(mse_mean_test)\n",
    "    mae_mean_train = mean_absolute_error(y_train, combined_predictions_mean_train)\n",
    "    mae_mean_test = mean_absolute_error(y_test, combined_predictions_mean_test)\n",
    "\n",
    "    # Calculate PBIAS (Percent Bias)\n",
    "    pbias_train = ((y_train - combined_predictions_mean_train) / y_train).mean() * 100\n",
    "    pbias_test = ((y_test - combined_predictions_mean_test) / y_test).mean() * 100\n",
    "\n",
    "    # Append the performance metrics for the current iteration to the lists\n",
    "    train_r2_values.append(r2_mean_train)\n",
    "    test_r2_values.append(r2_mean_test)\n",
    "    train_mse_values.append(mse_mean_train)\n",
    "    test_mse_values.append(mse_mean_test)\n",
    "    train_rmse_values.append(rmse_mean_train)\n",
    "    test_rmse_values.append(rmse_mean_test)\n",
    "    train_mae_values.append(mae_mean_train)\n",
    "    test_mae_values.append(mae_mean_test)\n",
    "    train_pbias_values.append(pbias_train)\n",
    "    test_pbias_values.append(pbias_test)\n",
    "\n",
    "# Calculate the average of the performance metrics over all iterations\n",
    "average_train_r2 = sum(train_r2_values) / num_iterations\n",
    "average_test_r2 = sum(test_r2_values) / num_iterations\n",
    "average_train_mse = sum(train_mse_values) / num_iterations\n",
    "average_test_mse = sum(test_mse_values) / num_iterations\n",
    "average_train_rmse = sum(train_rmse_values) / num_iterations\n",
    "average_test_rmse = sum(test_rmse_values) / num_iterations\n",
    "average_train_mae = sum(train_mae_values) / num_iterations\n",
    "average_test_mae = sum(test_mae_values) / num_iterations\n",
    "average_train_pbias = sum(train_pbias_values) / num_iterations\n",
    "average_test_pbias = sum(test_pbias_values) / num_iterations\n",
    "\n",
    "# Print the average performance metrics\n",
    "print(\"Average Train R2:\", average_train_r2)\n",
    "print(\"Average Test R2:\", average_test_r2)\n",
    "print(\"Average Train MSE:\", average_train_mse)\n",
    "print(\"Average Test MSE:\", average_test_mse)\n",
    "print(\"Average Train RMSE:\", average_train_rmse)\n",
    "print(\"Average Test RMSE:\", average_test_rmse)\n",
    "print(\"Average Train MAE:\", average_train_mae)\n",
    "print(\"Average Test MAE:\", average_test_mae)\n",
    "print(\"Average Train PBIAS:\", average_train_pbias)\n",
    "print(\"Average Test PBIAS:\", average_test_pbias)"
   ]
  },
  {
   "cell_type": "raw",
   "id": "b25f1a16-2aee-48a4-b527-bd1ac39a0048",
   "metadata": {},
   "source": [
    "Average Train R2: 0.696496754698487\n",
    "Average Test R2: 0.5122279279865243\n",
    "Average Train MSE: 8.171363012010989\n",
    "Average Test MSE: 12.636267747044364\n",
    "Average Train RMSE: 2.8529530162925782\n",
    "Average Test RMSE: 3.550832189013678\n",
    "Average Train MAE: 1.8809498564885132\n",
    "Average Test MAE: 2.5802137232431868\n",
    "Average Train PBIAS: -40.11906135954909\n",
    "Average Test PBIAS: -48.732570050006586"
   ]
  },
  {
   "cell_type": "code",
   "execution_count": 35,
   "id": "8c32778b-54a4-4ff2-ab39-ed1842911fb4",
   "metadata": {
    "tags": []
   },
   "outputs": [
    {
     "data": {
      "text/plain": [
       "['rf_model_HAB_Random_01.joblib']"
      ]
     },
     "execution_count": 35,
     "metadata": {},
     "output_type": "execute_result"
    }
   ],
   "source": [
    "#Saving the trained model\n",
    "\n",
    "import pickle\n",
    "\n",
    "# Save the Random Forest model to a file using pickle\n",
    "with open('rf_model_HAB_Random_01.pkl', 'wb') as file:\n",
    "    pickle.dump(rf_model_HAB_Random_01, file)\n",
    "import joblib\n",
    "\n",
    "# Save the Random Forest model to a file using joblib\n",
    "joblib.dump(rf_model_HAB_Random_01, 'rf_model_HAB_Random_01.joblib')"
   ]
  },
  {
   "cell_type": "code",
   "execution_count": null,
   "id": "fadca38e-cbb2-4235-a22f-348678a104c8",
   "metadata": {},
   "outputs": [],
   "source": [
    "#Normal Code:"
   ]
  },
  {
   "cell_type": "code",
   "execution_count": 22,
   "id": "a23cadd9-94da-4829-84fa-3410eff56084",
   "metadata": {
    "collapsed": true,
    "jupyter": {
     "outputs_hidden": true
    },
    "tags": []
   },
   "outputs": [
    {
     "name": "stdout",
     "output_type": "stream",
     "text": [
      "0.49249251873437383\n",
      "12.697821714050777\n",
      "3.563400302246546\n",
      "2.4857854104173156\n",
      "-62.64099175532256\n",
      "0.2767192621993748\n",
      "11.684384585703722\n",
      "3.4182429091133533\n",
      "2.4756834143459883\n",
      "-92.50476788570369\n"
     ]
    },
    {
     "data": {
      "image/png": "[encoded data removed]",
      "text/plain": [
       "<Figure size 576x432 with 1 Axes>"
      ]
     },
     "metadata": {
      "needs_background": "light"
     },
     "output_type": "display_data"
    },
    {
     "data": {
      "image/png": "[encoded data removed]",
      "text/plain": [
       "<Figure size 576x432 with 1 Axes>"
      ]
     },
     "metadata": {
      "needs_background": "light"
     },
     "output_type": "display_data"
    }
   ],
   "source": [
    "# Number of iterations (J) for the Improved Random Forest\n",
    "J = 100  # You can adjust the number of iterations as needed\n",
    "\n",
    "# Lists to store individual decision tree models\n",
    "decision_trees_mean = []\n",
    "\n",
    "# Step 2: Training J Decision Trees\n",
    "for j in range(J):\n",
    "    # Create a bootstrap sample Dj of size N from the training data\n",
    "    bootstrap_indices = np.random.choice(len(X_train), size=len(X_train), replace=True)\n",
    "    X_train_bootstrap = X_train.iloc[bootstrap_indices]\n",
    "    y_train_bootstrap = y_train.iloc[bootstrap_indices]\n",
    "\n",
    "    # Train the decision model (Random Forest Regressor) using Dj as the training data\n",
    "    rf_model = RandomForestRegressor(random_state=42, n_estimators=1, max_depth=4, min_samples_split=6, min_samples_leaf=7)\n",
    "    rf_model.fit(X_train_bootstrap, y_train_bootstrap)\n",
    "\n",
    "    # Append the trained decision tree to the respective list\n",
    "    decision_trees_mean.append(rf_model)  # For mean wind pressure coefficient\n",
    "\n",
    "# Step 3: Predictions and Combining Decision Trees\n",
    "def combine_decision_trees(predictions):\n",
    "    return np.mean(predictions, axis=0)\n",
    "\n",
    "# Predictions\n",
    "predictions_mean_train = [tree.predict(X_train) for tree in decision_trees_mean]\n",
    "combined_predictions_mean_train = combine_decision_trees(predictions_mean_train)\n",
    "\n",
    "predictions_mean_test = [tree.predict(X_test) for tree in decision_trees_mean]\n",
    "combined_predictions_mean_test = combine_decision_trees(predictions_mean_test)\n",
    "\n",
    "# Step 4: Evaluate the Model\n",
    "# Calculate performance metrics for the current iteration\n",
    "r2_mean_train = r2_score(y_train, combined_predictions_mean_train)\n",
    "r2_mean_test = r2_score(y_test, combined_predictions_mean_test)\n",
    "mse_mean_train = mean_squared_error(y_train, combined_predictions_mean_train)\n",
    "mse_mean_test = mean_squared_error(y_test, combined_predictions_mean_test)\n",
    "rmse_mean_train = np.sqrt(mse_mean_train)\n",
    "rmse_mean_test = np.sqrt(mse_mean_test)\n",
    "mae_mean_train = mean_absolute_error(y_train, combined_predictions_mean_train)\n",
    "mae_mean_test = mean_absolute_error(y_test, combined_predictions_mean_test)\n",
    "\n",
    "# Calculate PBIAS (Percent Bias)\n",
    "pbias_train = ((y_train - combined_predictions_mean_train) / y_train).mean() * 100\n",
    "pbias_test = ((y_test - combined_predictions_mean_test) / y_test).mean() * 100\n",
    "\n",
    "print(r2_mean_train)\n",
    "print(mse_mean_train)\n",
    "print(rmse_mean_train)\n",
    "print(mae_mean_train)\n",
    "print(pbias_train)\n",
    "\n",
    "print(r2_mean_test)\n",
    "print(mse_mean_test)\n",
    "print(rmse_mean_test)\n",
    "print(mae_mean_test)\n",
    "print(pbias_test)\n",
    "\n",
    "# Plot the results for training data\n",
    "plt.figure(figsize=(8, 6))\n",
    "plt.scatter(y_train, combined_predictions_mean_train, c='blue', label='Actual vs. Predicted (Training)')\n",
    "plt.plot([0, 35], [0, 35], 'k--', lw=2)\n",
    "plt.xlabel('Actual Chlorophyll-a', fontsize=15)\n",
    "plt.ylabel('Predicted Chlorophyll-a (Mean) - Training', fontsize=15)\n",
    "plt.title ('Random Forest Regression - Training Data', fontsize=15)\n",
    "plt.legend(fontsize=14)\n",
    "plt.show()\n",
    "\n",
    "# Plot the results for test data\n",
    "plt.figure(figsize=(8, 6))\n",
    "plt.scatter(y_test, combined_predictions_mean_test, c='green', label='Actual vs. Predicted (Test)')\n",
    "plt.plot([0, 35], [0, 35], 'k--', lw=2)\n",
    "plt.xlabel('Actual Chlorophyll-a', fontsize=15)\n",
    "plt.ylabel('Predicted Chlorophyll-a (Mean) - Test', fontsize=15)\n",
    "plt.title ('Random Forest Regression - Test Data', fontsize=15)\n",
    "plt.legend(fontsize=14)\n",
    "plt.show()"
   ]
  },
  {
   "cell_type": "code",
   "execution_count": null,
   "id": "cc2d161f-70d5-46ae-b1e5-06308a70a5f6",
   "metadata": {},
   "outputs": [],
   "source": []
  }
 ],
 "metadata": {
  "kernelspec": {
   "display_name": "Python 3 (ipykernel)",
   "language": "python",
   "name": "python3"
  },
  "language_info": {
   "codemirror_mode": {
    "name": "ipython",
    "version": 3
   },
   "file_extension": ".py",
   "mimetype": "text/x-python",
   "name": "python",
   "nbconvert_exporter": "python",
   "pygments_lexer": "ipython3",
   "version": "3.9.12"
  }
 },
 "nbformat": 4,
 "nbformat_minor": 5
}
